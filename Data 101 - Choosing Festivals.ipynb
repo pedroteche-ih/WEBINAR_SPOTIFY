{
 "cells": [
  {
   "cell_type": "code",
   "execution_count": null,
   "metadata": {},
   "outputs": [],
   "source": [
    "!pip install plotly\n",
    "!pip install spotipy"
   ]
  },
  {
   "cell_type": "markdown",
   "metadata": {},
   "source": [
    "# Data 101: Choosing your next festival w/ Data\n",
    "\n",
    "Today we will be looking at a simple end to end pipeline for extracting, transforming and analyzing data. Our starting point are summer festivals. We will leverage Spotify's API to extract **audio features** from the top tracks of headliners across 25 different European festivals in 2022.\n",
    "\n",
    "Our work will be divided in 3 steps:\n",
    "\n",
    "1. **Data Extraction**: loading the festival headliner data & connecting to the Spotify API;\n",
    "1. **Data Mashing**: use our extracted data to characterize each festival according to the musical characteristics of featured artists;\n",
    "1. **Data Analysis**: visualize our dataset and use ML to choose a festival according to our favorite artists!\n",
    "\n",
    "**Data Sources**\n",
    "1. Festival Headliners: https://www.festicket.com/magazine/discover/top-20-music-festivals-Europe/\n",
    "1. Spotify API: https://developer.spotify.com/documentation/web-api/\n",
    "\n",
    "# Data Extraction\n",
    "\n",
    "In this step we will load our festival headliner data and use it to extract **audio features** from each artists Top 10 tracks using the Spotify API.\n",
    "\n",
    "## Festival/Headliner Table\n",
    "Let's start loading our festival table. This data was manually scraped from *Festicket's* list of top 20 festivals in Europe for 2022. You can find the extracted data inside Google Sheets:\n",
    "\n",
    "https://docs.google.com/spreadsheets/d/1aUiwstZKEENiw3KAT1CCCXcji1iLWdCL_HwngvLxzJc/edit?usp=sharing\n",
    "\n",
    "We will use Pandas, a Python library for representing and manipulating tabular data, to load our spreadsheet."
   ]
  },
  {
   "cell_type": "code",
   "execution_count": null,
   "metadata": {},
   "outputs": [],
   "source": [
    "import pandas as pd\n"
   ]
  },
  {
   "cell_type": "markdown",
   "metadata": {},
   "source": [
    "We can use a simple renaming trick to read a Google Sheet's spreadsheet through it's sharing URL:"
   ]
  },
  {
   "cell_type": "code",
   "execution_count": null,
   "metadata": {},
   "outputs": [],
   "source": [
    "def read_from_gsheets(spreadsheet_link):\n",
    "    \"\"\"\n",
    "    Transform Google Sheets URL into a CSV file\n",
    "    \"\"\"\n",
    "    working_spreadsheet = spreadsheet_link.replace(\n",
    "        \"/edit?usp=sharing\", \"/export?format=csv\"\n",
    "    )\n",
    "\n",
    "    return pd.read_csv(working_spreadsheet)\n"
   ]
  },
  {
   "cell_type": "markdown",
   "metadata": {},
   "source": [
    "Now, let's use our function to read the first Festival data table:"
   ]
  },
  {
   "cell_type": "code",
   "execution_count": null,
   "metadata": {},
   "outputs": [],
   "source": [
    "tb_festivals = read_from_gsheets(\n",
    "    \"https://docs.google.com/spreadsheets/d/1aUiwstZKEENiw3KAT1CCCXcji1iLWdCL_HwngvLxzJc/edit?usp=sharing\"\n",
    ")\n",
    "tb_festivals.head()\n"
   ]
  },
  {
   "cell_type": "markdown",
   "metadata": {},
   "source": [
    "We can see this table contains each festival's line-up. Now we will see how we can use the Spotify API to enrich this data."
   ]
  },
  {
   "cell_type": "markdown",
   "metadata": {},
   "source": [
    "## Spotify API\n",
    "\n",
    "The Spotify API is a way to connect to Spotify and extract publicly available data. It's a very rich source of musical data, allowing us to extract information from specific Artits, Albums & Tracks.\n",
    "\n",
    "We will look at how we can use this resource to enrich our festival data, seeking information for each headliner and their top 10 tracks - but first let's see how we can connect to the Spotify API.\n",
    "\n",
    "In Python, we can use the `spotipy` library - which makes it really easy to connect and get information from Spotify!\n",
    "\n",
    "https://towardsdatascience.com/discovering-your-music-taste-with-python-and-spotify-api-b51b0d2744d"
   ]
  },
  {
   "cell_type": "code",
   "execution_count": null,
   "metadata": {},
   "outputs": [],
   "source": [
    "import spotipy\n",
    "from spotipy.oauth2 import SpotifyClientCredentials\n"
   ]
  },
  {
   "cell_type": "markdown",
   "metadata": {},
   "source": [
    "We must connect to Spotify using a `CLIENT_ID` & `CLIENT_SECRET`: this how we *log-on* to Spotify through our script.\n",
    "\n",
    "To create a `CLIENT_ID`/`CLIENT_SECRET` of your own you have to log-on to https://developer.spotify.com/dashboard/login w/ your own spotify account and create an App."
   ]
  },
  {
   "cell_type": "code",
   "execution_count": null,
   "metadata": {},
   "outputs": [],
   "source": [
    "CLIENT_ID = \"cd9cd1ff2710474993b146e14b5e2612\"\n",
    "CLIENT_SECRET = \"6bb783f4e3114cfc88ed7dbbfa9eee08\"\n",
    "\n",
    "auth_manager = SpotifyClientCredentials(\n",
    "    client_id=CLIENT_ID, client_secret=CLIENT_SECRET\n",
    ")\n",
    "spotify = spotipy.Spotify(client_credentials_manager=auth_manager)\n"
   ]
  },
  {
   "cell_type": "markdown",
   "metadata": {},
   "source": [
    "Now we can use the `spotify` object to fetch information from the Spotify API! Let's start extracting musical data from a specific track:\n",
    "\n",
    "1. **Running Up That Hill** by Kate Bush\n",
    "1. **Raining Blood** by Slayer\n",
    "1. **You Only Live Twice** by Nancy Sinatra\n",
    "1. **I Like It** by Cardi B."
   ]
  },
  {
   "cell_type": "markdown",
   "metadata": {},
   "source": [
    "### What are Audio Features?\n",
    "\n",
    "Audio Features are quantitative data we can extract for different tracks through the Spotify API. We have some obvious things such as **Song Duration** or **Beats per Minute (BPM)**, but we also have some quantities which Spotify uses to classify songs:\n",
    "\n",
    "1. **Danceability**: Danceability describes how suitable a track is for dancing based on a combination of musical elements including tempo, rhythm stability, beat strength, and overall regularity. A value of 0.0 is least danceable and 1.0 is most danceable.\n",
    "\n",
    "1. **Energy**: Energy is a measure from 0.0 to 1.0 and represents a perceptual measure of intensity and activity. Typically, energetic tracks feel fast, loud, and noisy. For example, death metal has high energy, while a Bach prelude scores low on the scale. Perceptual features contributing to this attribute include dynamic range, perceived loudness, timbre, onset rate, and general entropy.\n",
    "\n",
    "1. **Valence**: A measure from 0.0 to 1.0 describing the musical positiveness conveyed by a track. Tracks with high valence sound more positive (e.g. happy, cheerful, euphoric), while tracks with low valence sound more negative (e.g. sad, depressed, angry).\n",
    "\n",
    "You can find the full feature set @ https://developer.spotify.com/documentation/web-api/reference/#/operations/get-audio-features.\n",
    "\n",
    "We can use the `spotify.audio_features()` method to extract this data for a specific song through it's Spotify URL."
   ]
  },
  {
   "cell_type": "code",
   "execution_count": null,
   "metadata": {},
   "outputs": [],
   "source": [
    "dict_songs = {\n",
    "    \"kate_bush\": \"https://open.spotify.com/track/75FEaRjZTKLhTrFGsfMUXR?si=26398bff72014b5a\",\n",
    "    \"slayer\": \"https://open.spotify.com/track/4fiOTntQKr24p07FvQDHZE?si=148a03ca6ba844fb\",\n",
    "    \"n_sinatra\": \"https://open.spotify.com/track/790jn9vbIPMRzhH9Ft4Vji?si=58a6771903db4527\",\n",
    "    \"cardi_b\": \"https://open.spotify.com/track/58q2HKrzhC3ozto2nDdN4z?si=6f755b3e29d841ad\",\n",
    "}\n"
   ]
  },
  {
   "cell_type": "code",
   "execution_count": null,
   "metadata": {},
   "outputs": [],
   "source": [
    "spotify.audio_features(dict_songs[\"cardi_b\"])\n"
   ]
  },
  {
   "cell_type": "markdown",
   "metadata": {},
   "source": [
    "Audio Features gives us a way to quantitavely analyze musical data. However, they are an **attribute** of **individual tracks**. Now we must find a way to calculate something similiar for our Festivals!\n",
    "\n",
    "### Extracting Top Tracks by Artist\n",
    "\n",
    "Well, we already have which Artist is playing at each festival - we can start by extracting the top tracks from each artist! This way we can use **Audio Features**, an attribute of **individual tracks**, for the top 10 tracks of each artist.\n",
    "\n",
    "We can use the `spotify.artist_top_tracks()` to extract this information for a specific artist URL:"
   ]
  },
  {
   "cell_type": "code",
   "execution_count": null,
   "metadata": {},
   "outputs": [],
   "source": [
    "dict_artist = {\n",
    "    \"kate_bush\": \"https://open.spotify.com/artist/1aSxMhuvixZ8h9dK9jIDwL?si=JJfv25h8QXm-3r-j5L1_7g\",\n",
    "    \"slayer\": \"https://open.spotify.com/artist/1IQ2e1buppatiN1bxUVkrk?si=w397LtnvRtm4B3G6JRi9lA\",\n",
    "    \"sinatra\": \"https://open.spotify.com/artist/3IZrrNonYELubLPJmqOci2?si=ZPDqqkWAQQWeDH_0VzWwvQ\",\n",
    "    \"cardi_b\": \"https://open.spotify.com/artist/4kYSro6naA4h99UJvo89HB?si=hfaZb9xCTgW1DEYlSHX0Nw\",\n",
    "}\n"
   ]
  },
  {
   "cell_type": "code",
   "execution_count": null,
   "metadata": {},
   "outputs": [],
   "source": [
    "top_tracks = spotify.artist_top_tracks(dict_artist[\"cardi_b\"])\n",
    "top_tracks\n"
   ]
  },
  {
   "cell_type": "markdown",
   "metadata": {},
   "source": [
    "This output is much more complex than the audio features! Using APIs usually involves a bit of detective work: we must investigate the information we obtain to understand how we can use it. Let's a bit of API sleuthing then :)"
   ]
  },
  {
   "cell_type": "code",
   "execution_count": null,
   "metadata": {},
   "outputs": [],
   "source": [
    "type(top_tracks)\n"
   ]
  },
  {
   "cell_type": "markdown",
   "metadata": {},
   "source": [
    "After a bit of sleuthing we've understood the structure behind the `top_tracks`! We can leverage that structure to extract each top song's `URI` and use this ID to extract the audio features for each top track using a `for` loop:"
   ]
  },
  {
   "cell_type": "code",
   "execution_count": null,
   "metadata": {},
   "outputs": [],
   "source": [
    "for track in top_tracks[\"tracks\"]:\n",
    "    print(track[\"name\"])\n",
    "    track_audio_features = spotify.audio_features(track[\"uri\"])[0]\n",
    "    valence = track_audio_features[\"valence\"]\n",
    "    danceability = track_audio_features[\"danceability\"]\n",
    "    energy = track_audio_features[\"energy\"]\n",
    "    print(f\"V: {valence}, D: {danceability}, E: {energy}\")\n"
   ]
  },
  {
   "cell_type": "markdown",
   "metadata": {},
   "source": [
    "Now we can extract audio features for each of the top 10 tracks by a given artist. We can use this to create a new DataFrame containung audio features for the top 10 tracks of each artist in our Festival Headliner data.\n",
    "\n",
    "### Putting it all together!\n",
    "\n",
    "Let's go over the steps we've mapped so far:\n",
    "\n",
    "1. Extract the Top 10 Songs of each artist in our Festival Headliner data;\n",
    "1. Extract the Audio Features of each song in the Top 10 Songs.\n",
    "\n",
    "For this to work properly we must use the Spotify API to extract the *Spotify Link* for each artist in our festival dataset. This is a lot of **boilerplate** coding: more sleuthing to discover how artist objects are structured and how to extract relevante information from the API!\n",
    "\n",
    "Not only is it *boilerplate*, it takes a while to extract the audio features for all songs (we have ~1400 tracks!).\n",
    "\n",
    "To keep things in our 1H time-frame, the information extracted in this process was saved as 2 `.csv` files, which we can load and inspect. The code to create these files can be found in the **Appendix** section of this notebook!\n",
    "\n",
    "First, let's load our **artist information**:"
   ]
  },
  {
   "cell_type": "code",
   "execution_count": null,
   "metadata": {},
   "outputs": [],
   "source": [
    "tb_artist = pd.read_csv(\"tb_artist.csv\")\n"
   ]
  },
  {
   "cell_type": "markdown",
   "metadata": {},
   "source": [
    "Now, let's load our **track information**:"
   ]
  },
  {
   "cell_type": "code",
   "execution_count": null,
   "metadata": {},
   "outputs": [],
   "source": [
    "tb_artist_track = pd.read_csv(\"tb_artist_track.csv\")\n"
   ]
  },
  {
   "cell_type": "markdown",
   "metadata": {},
   "source": [
    "## Data Mashing\n",
    "\n",
    "Now that we are done extracting our data, we must find a way to transform the track's Audio Features into Festival characteristics. First, let us recap our data structure so far:\n",
    "\n",
    "1. **Festivals**: each *Festival* is composed of *Artists*;\n",
    "1. **Artists**: each *Artist* is composed of multiple *Tracks* and *Artist* attributes;\n",
    "1. **Tracks**: each *Track* is composed of multiple attributes (our Audio Features).\n",
    "\n",
    "We can visualize this in the diagram below:\n",
    "\n",
    "![title](img/data_scheme.png)\n",
    "\n",
    "Now we will **aggregate** each level of our data structure to the level above: **Tracks** to **Artist** and **Artist** to **Festival**!\n",
    "\n",
    "### Aggregating **Tracks**\n",
    "\n",
    "Let's investigate our tracks table, `tb_artist_track`:"
   ]
  },
  {
   "cell_type": "code",
   "execution_count": null,
   "metadata": {},
   "outputs": [],
   "source": [
    "tb_artist_track.head()\n"
   ]
  },
  {
   "cell_type": "markdown",
   "metadata": {},
   "source": [
    "Since we have the artists name, we can the `tb_artist_track.groupby()` method to aggregate our track data for each artist. Let's start by calculating the average `energy` of each artist:"
   ]
  },
  {
   "cell_type": "code",
   "execution_count": null,
   "metadata": {},
   "outputs": [],
   "source": [
    "tb_artist_track.groupby(\"headliners\")[\"energy\"].mean()\n"
   ]
  },
  {
   "cell_type": "markdown",
   "metadata": {},
   "source": [
    "We can even use the `.sort_values()` method to sort our table from most energetic to least energetic artist:"
   ]
  },
  {
   "cell_type": "code",
   "execution_count": null,
   "metadata": {},
   "outputs": [],
   "source": [
    "tb_artist_track.groupby(\"headliners\")[\"energy\"].mean().sort_values(ascending=False)\n"
   ]
  },
  {
   "cell_type": "markdown",
   "metadata": {},
   "source": [
    "Let's use the `.groupby()` method to aggregate the most interesting Audio Features by artist:\n",
    "\n",
    "1. Energy\n",
    "1. Danceability\n",
    "1. Valence\n",
    "1. Instrumentalness\n",
    "1. Loudness\n",
    "1. Tempo(in BPM)\n",
    "1. Duration (in Minutes)"
   ]
  },
  {
   "cell_type": "code",
   "execution_count": null,
   "metadata": {},
   "outputs": [],
   "source": [
    "interesting_vars = [\n",
    "    \"energy\",\n",
    "    \"danceability\",\n",
    "    \"valence\",\n",
    "    \"instrumentalness\",\n",
    "    \"loudness\",\n",
    "    \"tempo\",\n",
    "    \"duration_min\",\n",
    "]\n",
    "tb_artist_track.groupby(\"headliners\")[interesting_vars].mean()\n"
   ]
  },
  {
   "cell_type": "markdown",
   "metadata": {},
   "source": [
    "Now let's save the results to a new table: `tb_agg_tracks`. "
   ]
  },
  {
   "cell_type": "code",
   "execution_count": null,
   "metadata": {},
   "outputs": [],
   "source": [
    "tb_agg_tracks = (\n",
    "    tb_artist_track.groupby(\"headliners\")[interesting_vars].mean().reset_index()\n",
    ")\n",
    "tb_agg_tracks.head()\n"
   ]
  },
  {
   "cell_type": "markdown",
   "metadata": {},
   "source": [
    "### Joining Aggregated Tracks w/ Artists & Festivals\n",
    "\n",
    "Now that we have aggregated our track information we must join this information with our artist information, found in the `tb_artist` DataFrame."
   ]
  },
  {
   "cell_type": "code",
   "execution_count": null,
   "metadata": {},
   "outputs": [],
   "source": [
    "tb_artist.head()\n"
   ]
  },
  {
   "cell_type": "code",
   "execution_count": null,
   "metadata": {},
   "outputs": [],
   "source": [
    "tb_agg_tracks.head()\n"
   ]
  },
  {
   "cell_type": "code",
   "execution_count": null,
   "metadata": {},
   "outputs": [],
   "source": [
    "tb_artist.merge(tb_agg_tracks, on=\"headliners\")\n"
   ]
  },
  {
   "cell_type": "code",
   "execution_count": null,
   "metadata": {},
   "outputs": [],
   "source": [
    "tb_artist_enriched = tb_artist.merge(tb_agg_tracks, on=\"headliners\")\n"
   ]
  },
  {
   "cell_type": "markdown",
   "metadata": {},
   "source": [
    "This table has the average of the selected Audio Features + the popularity & number of followers for each artist. We can join this new enriched table with our original festival data (`tb_festivals`)."
   ]
  },
  {
   "cell_type": "code",
   "execution_count": null,
   "metadata": {},
   "outputs": [],
   "source": [
    "tb_festivals_enriched = tb_festivals.merge(tb_artist_enriched, on=\"headliners\")\n",
    "tb_festivals_enriched.head()\n"
   ]
  },
  {
   "cell_type": "markdown",
   "metadata": {},
   "source": [
    "### Aggregating by Festival\n",
    "\n",
    "The final step in our data mashing is aggregating our `tb_festivals_enriched`: in this table we have the Audio Features of each headliner playing in a festival.\n",
    "\n",
    "We can use the same method we did for aggregating **Tracks** to **Artist**: `tb_festivals_enriched.groupby()`! Let's calculate the average Audio Features for each festival:"
   ]
  },
  {
   "cell_type": "code",
   "execution_count": null,
   "metadata": {},
   "outputs": [],
   "source": [
    "tb_festivals_enriched.groupby(\"festival\").mean()\n"
   ]
  },
  {
   "cell_type": "markdown",
   "metadata": {},
   "source": [
    "Let's save the results to a new DataFrame: `tb_agg_festival`."
   ]
  },
  {
   "cell_type": "code",
   "execution_count": null,
   "metadata": {},
   "outputs": [],
   "source": [
    "tb_agg_festival = tb_festivals_enriched.groupby(\"festival\").mean().reset_index()\n",
    "tb_agg_festival.head()\n"
   ]
  },
  {
   "cell_type": "markdown",
   "metadata": {},
   "source": [
    "## Data Analysis & Modelling\n",
    "\n",
    "Now we arrive at the end-goal of every data collection/transformation pipeline: analysis! We will focus on creating graphs understand the characteristics of each festival according to the Audio Features of that festival's headliner.\n",
    "\n",
    "### Visualizing our Data\n",
    "\n",
    "First  we must import our plotting library. For this webinar we will be using **Plotly** (https://plotly.com). Plotly allows us to build interactive graphs inside our Notebook."
   ]
  },
  {
   "cell_type": "code",
   "execution_count": null,
   "metadata": {},
   "outputs": [],
   "source": [
    "import plotly.express as px\n"
   ]
  },
  {
   "cell_type": "markdown",
   "metadata": {},
   "source": [
    "#### Festivals by Artist Popularity"
   ]
  },
  {
   "cell_type": "code",
   "execution_count": null,
   "metadata": {},
   "outputs": [],
   "source": [
    "px.bar(\n",
    "    data_frame=tb_agg_festival.sort_values(\"popularity\"), x=\"festival\", y=\"popularity\"\n",
    ")\n"
   ]
  },
  {
   "cell_type": "markdown",
   "metadata": {},
   "source": [
    "\n",
    "#### Festivals by Audio Features\n",
    "##### Audio Feature Distribution"
   ]
  },
  {
   "cell_type": "code",
   "execution_count": null,
   "metadata": {},
   "outputs": [],
   "source": [
    "px.histogram(data_frame=tb_agg_festival, x=\"duration_min\")\n"
   ]
  },
  {
   "cell_type": "markdown",
   "metadata": {},
   "source": [
    "#### Comparing Features"
   ]
  },
  {
   "cell_type": "code",
   "execution_count": null,
   "metadata": {},
   "outputs": [],
   "source": [
    "px.scatter(\n",
    "    data_frame=tb_agg_festival,\n",
    "    x=\"popularity\",\n",
    "    y=\"duration_min\",\n",
    "    hover_name=\"festival\",\n",
    "    height=600,\n",
    "    width=600,\n",
    ")\n"
   ]
  },
  {
   "cell_type": "code",
   "execution_count": null,
   "metadata": {},
   "outputs": [],
   "source": [
    "px.scatter(\n",
    "    data_frame=tb_agg_festival,\n",
    "    x=\"danceability\",\n",
    "    y=\"valence\",\n",
    "    hover_name=\"festival\",\n",
    "    height=600,\n",
    "    width=600,\n",
    ")\n"
   ]
  },
  {
   "cell_type": "markdown",
   "metadata": {},
   "source": [
    "##### Classifying Features\n",
    "\n",
    "Sometimes it's easier to visualize numeric data by transforming it into categories. Let's use the function `pd.qcut` to create a classification for the 3 main Audio Features: energy, danceability & valence."
   ]
  },
  {
   "cell_type": "code",
   "execution_count": null,
   "metadata": {},
   "outputs": [],
   "source": [
    "pd.qcut(tb_agg_festival[\"valence\"], 3, labels=[\"Sad\", \"Unsure\", \"Happy\"])\n"
   ]
  },
  {
   "cell_type": "code",
   "execution_count": null,
   "metadata": {},
   "outputs": [],
   "source": [
    "tb_agg_festival[\"classif_valence\"] = pd.qcut(\n",
    "    tb_agg_festival[\"valence\"], 3, labels=[\"Sad\", \"Unsure\", \"Happy\"]\n",
    ")\n",
    "tb_agg_festival[\"classif_valence\"].value_counts()\n"
   ]
  },
  {
   "cell_type": "code",
   "execution_count": null,
   "metadata": {},
   "outputs": [],
   "source": [
    "tb_agg_festival[\"classif_energy\"] = pd.qcut(\n",
    "    tb_agg_festival[\"energy\"], 3, labels=[\"Low\", \"Mild\", \"Wild\"]\n",
    ")\n",
    "tb_agg_festival[\"classif_dance\"] = pd.qcut(\n",
    "    tb_agg_festival[\"danceability\"], 3, labels=[\"Low\", \"Mild\", \"Dancefloor\"]\n",
    ")\n"
   ]
  },
  {
   "cell_type": "code",
   "execution_count": null,
   "metadata": {},
   "outputs": [],
   "source": [
    "px.sunburst(\n",
    "    tb_agg_festival,\n",
    "    path=[\"classif_energy\", \"classif_dance\", \"classif_valence\", \"festival\"]\n",
    ")\n"
   ]
  },
  {
   "cell_type": "code",
   "execution_count": null,
   "metadata": {},
   "outputs": [],
   "source": [
    "px.sunburst(\n",
    "    tb_agg_festival,\n",
    "    path=[\"classif_energy\", \"classif_dance\", \"classif_valence\"], \n",
    "    color='popularity',\n",
    "    color_continuous_scale='RdBu'\n",
    ")\n"
   ]
  },
  {
   "cell_type": "markdown",
   "metadata": {},
   "source": [
    " # Appendix\n",
    "\n",
    " Although we covered a lot of ground today, some code was too complex to go over during the webinar. A lot of it is **boilerplate** code: code which has no data-centric functionality, like enriching our Festival Headliner data with Spotify URLs.\n",
    "\n",
    " The code used to create `tb_artist` and `tb_artist_tracks` can be found below\n",
    "\n",
    " ## Extracting Artist Information"
   ]
  },
  {
   "cell_type": "code",
   "execution_count": null,
   "metadata": {},
   "outputs": [],
   "source": [
    "artist_info = []\n",
    "for artist in tb_festivals[\"headliners\"].unique():\n",
    "    try:\n",
    "        artist_dict = {}\n",
    "        artist_dict[\"headliners\"] = artist\n",
    "        search_result = spotify.search(q=artist, type=\"artist\")\n",
    "        artist_dict[\"uri\"] = search_result[\"artists\"][\"items\"][0][\"uri\"]\n",
    "        artist_dict[\"popularity\"] = search_result[\"artists\"][\"items\"][0][\"popularity\"]\n",
    "        artist_dict[\"followers\"] = search_result[\"artists\"][\"items\"][0][\"followers\"][\n",
    "            \"total\"\n",
    "        ]\n",
    "        artist_info.append(artist_dict)\n",
    "    except IndexError:\n",
    "        print(f\"{artist} not found\")\n",
    "\n",
    "tb_artist = pd.DataFrame(artist_info)\n"
   ]
  },
  {
   "cell_type": "code",
   "execution_count": null,
   "metadata": {},
   "outputs": [],
   "source": [
    "tb_artist.to_csv(\"tb_artist.csv\", index=False)\n"
   ]
  },
  {
   "cell_type": "markdown",
   "metadata": {},
   "source": [
    "## Extracting Top 10 Tracks Information"
   ]
  },
  {
   "cell_type": "code",
   "execution_count": null,
   "metadata": {},
   "outputs": [],
   "source": [
    "track_info = []\n",
    "for artist_uri in tb_artist[\"uri\"].unique():\n",
    "    artist = (\n",
    "        tb_artist.loc[tb_artist[\"uri\"] == artist_uri, :]\n",
    "        .reset_index()\n",
    "        .loc[0, \"headliners\"]\n",
    "    )\n",
    "    top_10_tracks = spotify.artist_top_tracks(artist_uri)[\"tracks\"]\n",
    "    for track in top_10_tracks:\n",
    "        track_data = spotify.audio_features(track[\"uri\"])[0]\n",
    "        track_data[\"headliners\"] = artist\n",
    "        track_data[\"artist_uri\"] = artist_uri\n",
    "        track_info.append(track_data)\n",
    "\n",
    "tb_artist_track = pd.DataFrame(track_info)\n"
   ]
  },
  {
   "cell_type": "code",
   "execution_count": null,
   "metadata": {},
   "outputs": [],
   "source": [
    "tb_artist_track[\"duration_min\"] = tb_artist_track[\"duration_ms\"] / (60 * 1000)\n",
    "tb_artist_track.to_csv(\"tb_artist_track.csv\", index=False)\n"
   ]
  },
  {
   "cell_type": "code",
   "execution_count": null,
   "metadata": {},
   "outputs": [],
   "source": []
  }
 ],
 "metadata": {
  "kernelspec": {
   "display_name": "Python 3.9.11 ('base')",
   "language": "python",
   "name": "python3"
  },
  "language_info": {
   "codemirror_mode": {
    "name": "ipython",
    "version": 3
   },
   "file_extension": ".py",
   "mimetype": "text/x-python",
   "name": "python",
   "nbconvert_exporter": "python",
   "pygments_lexer": "ipython3",
   "version": "3.9.11"
  },
  "orig_nbformat": 4,
  "vscode": {
   "interpreter": {
    "hash": "014f4a4a5af8f0104b12c029e500f4146d6d785e8cf714d2a35b7a9514230cd3"
   }
  }
 },
 "nbformat": 4,
 "nbformat_minor": 2
}

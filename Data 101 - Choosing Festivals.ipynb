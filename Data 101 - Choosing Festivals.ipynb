{
 "cells": [
  {
   "cell_type": "markdown",
   "metadata": {},
   "source": [
    "# Data 101: Choosing your next festival w/ Data\n",
    "\n",
    "Today we will be looking at a simple end to end pipeline for extracting, transforming and analyzing data. Our starting point are summer festivals. We will leverage Spotify's API to extract **audio features** from the top tracks of headliners across 25 different European festivals in 2022.\n",
    "\n",
    "Our work will be divided in 3 steps:\n",
    "\n",
    "1. **Data Extraction**: loading the festival headliner data & connecting to the Spotify API;\n",
    "1. **Data Mashing**: use our extracted data to characterize each festival according to the musical characteristics of featured artists;\n",
    "1. **Data Analysis**: visualize our dataset and use ML to choose a festival according to our favorite artists!\n",
    "\n",
    "**Data Sources**\n",
    "1. Festival Headliners: https://www.festicket.com/magazine/discover/top-20-music-festivals-Europe/\n",
    "1. Spotify API: https://developer.spotify.com/documentation/web-api/\n",
    "\n",
    "# Data Extraction\n",
    "\n",
    "In this step we will load our festival headliner data and use it to extract **audio features** from each artists Top 10 tracks using the Spotify API.\n",
    "\n",
    "## Festival/Headliner Table\n",
    "Let's start loading our festival table. This data was manually scraped from *Festicket's* list of top 20 festivals in Europe for 2022. You can find the extracted data inside Google Sheets:\n",
    "\n",
    "https://docs.google.com/spreadsheets/d/1aUiwstZKEENiw3KAT1CCCXcji1iLWdCL_HwngvLxzJc/edit?usp=sharing\n",
    "\n",
    "We will use Pandas, a Python library for representing and manipulating tabular data, to load our spreadsheet."
   ]
  },
  {
   "cell_type": "code",
   "execution_count": 1,
   "metadata": {},
   "outputs": [],
   "source": [
    "import pandas as pd"
   ]
  },
  {
   "cell_type": "markdown",
   "metadata": {},
   "source": [
    "## Spotify API"
   ]
  },
  {
   "cell_type": "markdown",
   "metadata": {},
   "source": [
    "### What are Audio Features?"
   ]
  },
  {
   "cell_type": "markdown",
   "metadata": {},
   "source": [
    "### Extracting Top Tracks by Artist"
   ]
  },
  {
   "cell_type": "markdown",
   "metadata": {},
   "source": [
    "### Extracting Artist URI"
   ]
  },
  {
   "cell_type": "markdown",
   "metadata": {},
   "source": [
    "### Putting it all together!"
   ]
  },
  {
   "cell_type": "markdown",
   "metadata": {},
   "source": [
    "## Data Mashing"
   ]
  },
  {
   "cell_type": "markdown",
   "metadata": {},
   "source": [
    "### Joining our tables"
   ]
  },
  {
   "cell_type": "markdown",
   "metadata": {},
   "source": [
    "### Aggregating by Festival"
   ]
  },
  {
   "cell_type": "markdown",
   "metadata": {},
   "source": [
    "## Data Analysis & Modelling"
   ]
  },
  {
   "cell_type": "markdown",
   "metadata": {},
   "source": [
    "### Visualizing our Data"
   ]
  },
  {
   "cell_type": "markdown",
   "metadata": {},
   "source": [
    "#### Festivals by Artist Popularity"
   ]
  },
  {
   "cell_type": "markdown",
   "metadata": {},
   "source": [
    "\n",
    "#### Festivals by Audio Features"
   ]
  },
  {
   "cell_type": "markdown",
   "metadata": {},
   "source": [
    "### Modelling"
   ]
  },
  {
   "cell_type": "markdown",
   "metadata": {},
   "source": [
    " "
   ]
  }
 ],
 "metadata": {
  "kernelspec": {
   "display_name": "Python 3.9.11 ('base')",
   "language": "python",
   "name": "python3"
  },
  "language_info": {
   "codemirror_mode": {
    "name": "ipython",
    "version": 3
   },
   "file_extension": ".py",
   "mimetype": "text/x-python",
   "name": "python",
   "nbconvert_exporter": "python",
   "pygments_lexer": "ipython3",
   "version": "3.9.11"
  },
  "orig_nbformat": 4,
  "vscode": {
   "interpreter": {
    "hash": "014f4a4a5af8f0104b12c029e500f4146d6d785e8cf714d2a35b7a9514230cd3"
   }
  }
 },
 "nbformat": 4,
 "nbformat_minor": 2
}
